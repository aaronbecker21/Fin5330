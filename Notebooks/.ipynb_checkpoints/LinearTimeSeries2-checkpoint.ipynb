{
 "cells": [
  {
   "cell_type": "markdown",
   "metadata": {},
   "source": [
    "# __Brough Lecture Notes: Beginning Time Series Topics II__\n",
    "\n",
    "<br>\n",
    "\n",
    "Finance 5330: Financial Econometrics <br>\n",
    "Tyler J. Brough <br>\n",
    "Last Updated: January 25, 2019 <br>\n",
    "<br>"
   ]
  },
  {
   "cell_type": "markdown",
   "metadata": {},
   "source": [
    "___Time Series Continued___\n",
    "\n",
    "<br>\n",
    "\n",
    "Summary of allowed lag polynomial manipulations\n",
    "\n",
    "1. We can multiply them\n",
    "\n",
    "$$\n",
    "a(L)b(L) = (a_{0} + a_{1} L + \\cdots) (b_{0} + b_{1} L + \\cdots) = a_{0}b_{0} + (a_{0}b_{1} + b_{0}a_{1}) L + \\cdots\n",
    "$$\n",
    "\n",
    "2. They commute\n",
    "\n",
    "$$\n",
    "a(L)b(L) = b(L)a(L)\n",
    "$$\n",
    "\n",
    "3. We can raise them to positive integer powers\n",
    "\n",
    "$$\n",
    "a(L)^{2} = a(L)a(L)\n",
    "$$"
   ]
  },
  {
   "cell_type": "markdown",
   "metadata": {},
   "source": [
    "4. We can invert them, by factoring them and inverting each term\n",
    "\n",
    "$$\n",
    "\\begin{aligned}\n",
    "a(L)      &= (1 - \\lambda_{1} L) (1 - \\lambda_{2} L) \\quad \\cdots \\\\\n",
    "a(L)^{-1} &= (1 - \\lambda_{1} L)^{-1} (1 - \\lambda_{2} L)^{-1} \\\\\n",
    "          &= \\sum\\limits_{j=0}^{\\infty} \\lambda_{1}^{j} L^{j} \\sum\\limits_{j=0}^{\\infty} \\lambda_{2}^{j} L^{j} \\\\\n",
    "          & = c_{1} (1 - \\lambda_{1} L)^{-1} + c_{2} (1 - \\lambda_{2} L)^{-1} \\quad \\cdots \\\\\n",
    "\\end{aligned}\n",
    "$$\n",
    "\n",
    "<br>\n",
    "<br>\n",
    "\n",
    "We'll look at roots greater than and/or equal to one, fractional powers, and non-polynomial functions of lag operators later. \n",
    "\n",
    "<br>"
   ]
  },
  {
   "cell_type": "markdown",
   "metadata": {},
   "source": [
    "___Multivariate ARMA Models___\n",
    "\n",
    "<br>\n",
    "\n",
    "The multivariate case is similar, reinterpreting our variables as vectors and matrices:\n",
    "\n",
    "$$\n",
    "x_{t} = \\begin{bmatrix} y_{t} \\\\ z_{t} \\end{bmatrix}\n",
    "$$\n",
    "\n",
    "<br>\n",
    "\n",
    "The building block is the multivariate white noise process, $\\varepsilon_{t} \\sim iid N(0, \\Sigma)$, which we write as follows\n",
    "\n",
    "<br>"
   ]
  },
  {
   "cell_type": "markdown",
   "metadata": {},
   "source": [
    "$$\n",
    "\\varepsilon_{t} = \\begin{bmatrix} \\delta_{t} \\\\ \\nu_{t} \\end{bmatrix}\n",
    "$$\n",
    "\n",
    "<br>\n",
    "\n",
    "with \n",
    "\n",
    "$$\n",
    "\\begin{aligned}\n",
    "E(\\varepsilon_{t}) &= 0 \\\\\n",
    "E(\\varepsilon_{t} \\varepsilon_{t}^{\\prime}) &= \\Sigma = \\begin{bmatrix} \\sigma_{\\delta}^{2} & \\sigma_{\\delta \\nu}^{2} \\\\ \\sigma_{\\nu \\delta}^{2} & \\sigma_{\\nu}^{2} \\end{bmatrix}\n",
    "\\end{aligned}\n",
    "$$\n",
    "\n",
    "<br>\n",
    "\n",
    "and\n",
    "\n",
    "$$\n",
    "E(\\varepsilon_{t} \\varepsilon_{t-j}^{\\prime}) = 0\n",
    "$$\n",
    "\n",
    "<br>"
   ]
  },
  {
   "cell_type": "markdown",
   "metadata": {},
   "source": [
    "The AR(1) is $x_{t} = \\phi x_{t-1} + \\varepsilon_{t}$, or \n",
    "\n",
    "<br>\n",
    "\n",
    "$$\n",
    "\\begin{bmatrix} y_{t} \\\\ z_{t} \\end{bmatrix} = \\begin{bmatrix} \\phi_{yy} & \\phi_{yz} \\\\ \\phi_{zy} & \\phi_{zz} \\end{bmatrix} \\begin{bmatrix} y_{t-1} \\\\ z_{t-1} \\end{bmatrix} + \\begin{bmatrix} \\delta_{t} \\\\ \\nu_{t} \\end{bmatrix}\n",
    "$$\n",
    "\n",
    "<br>\n",
    "<br>\n",
    "\n",
    "Or\n",
    "\n",
    "$$\n",
    "\\begin{aligned}\n",
    "y_{t} &= \\phi_{yy} y_{t-1} + \\phi_{yz} z_{t-1} + \\delta_{t} \\\\\n",
    "z_{t} &= \\phi_{zy} y_{t-1} + \\phi_{zz} z_{t-1} + \\nu_{t}\n",
    "\\end{aligned}\n",
    "$$\n",
    "\n",
    "<br>\n",
    "\n",
    "__NB:__ this is a Vector autoregressive model of order 1, or a VAR(1) model."
   ]
  },
  {
   "cell_type": "markdown",
   "metadata": {},
   "source": []
  }
 ],
 "metadata": {
  "kernelspec": {
   "display_name": "Python 3",
   "language": "python",
   "name": "python3"
  },
  "language_info": {
   "codemirror_mode": {
    "name": "ipython",
    "version": 3
   },
   "file_extension": ".py",
   "mimetype": "text/x-python",
   "name": "python",
   "nbconvert_exporter": "python",
   "pygments_lexer": "ipython3",
   "version": "3.7.1"
  }
 },
 "nbformat": 4,
 "nbformat_minor": 2
}
